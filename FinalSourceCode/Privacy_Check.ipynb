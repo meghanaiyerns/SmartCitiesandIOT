{
 "cells": [
  {
   "cell_type": "code",
   "execution_count": null,
   "metadata": {},
   "outputs": [
    {
     "name": "stdout",
     "output_type": "stream",
     "text": [
      "Connected with Raspberry PI for Privacy Check 0\n",
      "Person Detected b'Pop-up to request permission from the user'\n",
      "PRIVACY NOTE\n",
      "Person Detected b'Start monitoring drowsiness factor'\n",
      "Person Detected b'Pop-up to request permission from the user'\n",
      "PRIVACY NOTE\n",
      "Person Detected b'Start monitoring drowsiness factor'\n",
      "Person Detected b'Pop-up to request permission from the user'\n",
      "PRIVACY NOTE\n",
      "Person Detected b'Start monitoring drowsiness factor'\n",
      "Person Detected b'Pop-up to request permission from the user'\n",
      "PRIVACY NOTE\n",
      "Person Detected b'Start monitoring drowsiness factor'\n",
      "Person Detected b'Pop-up to request permission from the user'\n",
      "PRIVACY NOTE\n",
      "Person Detected b'Start monitoring drowsiness factor'\n",
      "Person Detected b'Pop-up to request permission from the user'\n",
      "PRIVACY NOTE\n",
      "Person Detected b'Start monitoring drowsiness factor'\n",
      "Person Detected b'Pop-up to request permission from the user'\n",
      "PRIVACY NOTE\n",
      "Person Detected b'Start monitoring drowsiness factor'\n",
      "Person Detected b'Pop-up to request permission from the user'\n",
      "PRIVACY NOTE\n",
      "Person Detected b'Start monitoring drowsiness factor'\n",
      "Person Detected b'Pop-up to request permission from the user'\n",
      "PRIVACY NOTE\n",
      "Person Detected b'Start monitoring drowsiness factor'\n",
      "Person Detected b'Pop-up to request permission from the user'\n",
      "PRIVACY NOTE\n",
      "Person Detected b'Start monitoring drowsiness factor'\n",
      "Person Detected b'Pop-up to request permission from the user'\n",
      "PRIVACY NOTE\n",
      "Person Detected b'Start monitoring drowsiness factor'\n",
      "Person Detected b'Pop-up to request permission from the user'\n",
      "PRIVACY NOTE\n",
      "Person Detected b'Start monitoring drowsiness factor'\n",
      "Person Detected b'Pop-up to request permission from the user'\n",
      "PRIVACY NOTE\n",
      "Person Detected b'Start monitoring drowsiness factor'\n",
      "Person Detected b'Pop-up to request permission from the user'\n",
      "PRIVACY NOTE\n",
      "Person Detected b'Pop-up to request permission from the user'\n",
      "PRIVACY NOTE\n",
      "Person Detected b'Start monitoring drowsiness factor'\n"
     ]
    }
   ],
   "source": [
    "import paho.mqtt.client as mqtt\n",
    "import easygui\n",
    "\n",
    "def on_connect(client, userdata, flags, rc):\n",
    "    print(\"Connected with Raspberry PI for Privacy Check \"+str(rc))\n",
    "    client.subscribe(\"Person Detected\")\n",
    "       \n",
    "def on_message(client, userdata, msg):\n",
    "    print(msg.topic+\" \"+str(msg.payload))\n",
    "    if msg.payload == b\"Pop-up to request permission from the user\":\n",
    "        print(\"PRIVACY NOTE\")\n",
    "        a = easygui.msgbox(\"\"\"The security of your Personal Information is important to us. \n",
    "        While we strive to use commercially acceptable means to protect your Personal Information, we will guarantee its absolute security.\n",
    "        Please agree upon this by clicking the OK botton\"\"\", title=\"Privacy Note\")\n",
    "        \n",
    "client = mqtt.Client()\n",
    "client.on_connect = on_connect\n",
    "client.on_message = on_message\n",
    " \n",
    "client.connect(\"test.mosquitto.org\",1883)\n",
    "client.loop_forever()"
   ]
  },
  {
   "cell_type": "code",
   "execution_count": null,
   "metadata": {},
   "outputs": [],
   "source": []
  }
 ],
 "metadata": {
  "kernelspec": {
   "display_name": "Python 3",
   "language": "python",
   "name": "python3"
  },
  "language_info": {
   "codemirror_mode": {
    "name": "ipython",
    "version": 3
   },
   "file_extension": ".py",
   "mimetype": "text/x-python",
   "name": "python",
   "nbconvert_exporter": "python",
   "pygments_lexer": "ipython3",
   "version": "3.7.7"
  }
 },
 "nbformat": 4,
 "nbformat_minor": 4
}
